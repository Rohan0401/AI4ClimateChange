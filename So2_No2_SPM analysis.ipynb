{
 "cells": [
  {
   "cell_type": "code",
   "execution_count": 2,
   "metadata": {},
   "outputs": [
    {
     "name": "stdout",
     "output_type": "stream",
     "text": [
      "0.16\n"
     ]
    }
   ],
   "source": [
    "import plotly.plotly as py\n",
    "import cufflinks as cf\n",
    "import pandas as pd\n",
    "import numpy as np\n",
    "print(cf.__version__)"
   ]
  },
  {
   "cell_type": "code",
   "execution_count": 3,
   "metadata": {},
   "outputs": [
    {
     "name": "stderr",
     "output_type": "stream",
     "text": [
      "/home/rohan/.conda/envs/air_pollution_analysis/lib/python3.7/site-packages/IPython/core/interactiveshell.py:3058: DtypeWarning:\n",
      "\n",
      "Columns (0) have mixed types. Specify dtype option on import or set low_memory=False.\n",
      "\n"
     ]
    }
   ],
   "source": [
    "air_pollution_data = pd.read_csv(\"./data/air_pollution_data.csv\")"
   ]
  },
  {
   "cell_type": "code",
   "execution_count": 4,
   "metadata": {},
   "outputs": [
    {
     "data": {
      "text/plain": [
       "Index(['stn_code', 'sampling_date', 'state', 'location', 'agency', 'type',\n",
       "       'so2', 'no2', 'rspm', 'spm', 'location_monitoring_station', 'pm2_5',\n",
       "       'date'],\n",
       "      dtype='object')"
      ]
     },
     "execution_count": 4,
     "metadata": {},
     "output_type": "execute_result"
    }
   ],
   "source": [
    "air_pollution_data.columns"
   ]
  },
  {
   "cell_type": "code",
   "execution_count": 5,
   "metadata": {},
   "outputs": [],
   "source": [
    "# Conversion for the data-time\n",
    "air_pollution_data['date_time'] = pd.to_datetime(air_pollution_data['date'], format='%m/%d/%Y').dt.date"
   ]
  },
  {
   "cell_type": "code",
   "execution_count": 8,
   "metadata": {},
   "outputs": [
    {
     "data": {
      "text/html": [
       "        <script type=\"text/javascript\">\n",
       "        window.PlotlyConfig = {MathJaxConfig: 'local'};\n",
       "        if (window.MathJax) {MathJax.Hub.Config({SVG: {font: \"STIX-Web\"}});}\n",
       "        if (typeof require !== 'undefined') {\n",
       "        require.undef(\"plotly\");\n",
       "        requirejs.config({\n",
       "            paths: {\n",
       "                'plotly': ['https://cdn.plot.ly/plotly-latest.min']\n",
       "            }\n",
       "        });\n",
       "        require(['plotly'], function(Plotly) {\n",
       "            window._Plotly = Plotly;\n",
       "        });\n",
       "        }\n",
       "        </script>\n",
       "        "
      ]
     },
     "metadata": {},
     "output_type": "display_data"
    }
   ],
   "source": [
    "cf.set_config_file(offline=True)"
   ]
  },
  {
   "cell_type": "code",
   "execution_count": 10,
   "metadata": {},
   "outputs": [
    {
     "data": {
      "text/plain": [
       "Index(['stn_code', 'sampling_date', 'state', 'location', 'agency', 'type',\n",
       "       'so2', 'no2', 'rspm', 'spm', 'location_monitoring_station', 'pm2_5',\n",
       "       'date', 'date_time'],\n",
       "      dtype='object')"
      ]
     },
     "execution_count": 10,
     "metadata": {},
     "output_type": "execute_result"
    }
   ],
   "source": [
    "air_pollution_data.columns"
   ]
  },
  {
   "cell_type": "code",
   "execution_count": 57,
   "metadata": {},
   "outputs": [],
   "source": [
    "data_frame = air_pollution_data.groupby('state').mean().drop('pm2_5', axis=1).dropna()"
   ]
  },
  {
   "cell_type": "code",
   "execution_count": 58,
   "metadata": {},
   "outputs": [],
   "source": [
    "data_frame = data_frame.reset_index()"
   ]
  },
  {
   "cell_type": "code",
   "execution_count": 59,
   "metadata": {},
   "outputs": [],
   "source": [
    "import plotly.graph_objs as go"
   ]
  },
  {
   "cell_type": "code",
   "execution_count": 66,
   "metadata": {},
   "outputs": [
    {
     "data": {
      "application/vnd.plotly.v1+json": {
       "config": {
        "linkText": "Export to plot.ly",
        "plotlyServerURL": "https://plot.ly",
        "showLink": true
       },
       "data": [
        {
         "marker": {
          "color": "rgba(255, 153, 51, 1.0)",
          "line": {
           "width": 1.3
          },
          "opacity": 0.8,
          "size": [
           52
          ],
          "symbol": "circle"
         },
         "mode": "markers",
         "name": "Andhra Pradesh",
         "textfont": {
          "color": "#4D5663"
         },
         "type": "scatter",
         "uid": "da321e3a-3032-45b8-a4ef-45c7ff9625c1",
         "x": [
          7.28484482691484
         ],
         "y": [
          21.704450555835237
         ]
        },
        {
         "marker": {
          "color": "rgba(55, 128, 191, 1.0)",
          "line": {
           "width": 1.3
          },
          "opacity": 0.8,
          "size": [
           37
          ],
          "symbol": "circle"
         },
         "mode": "markers",
         "name": "Assam",
         "textfont": {
          "color": "#4D5663"
         },
         "type": "scatter",
         "uid": "36090f68-ed30-40d4-8376-d0237932c820",
         "x": [
          6.723262949865003
         ],
         "y": [
          14.793691007156418
         ]
        },
        {
         "marker": {
          "color": "rgba(50, 171, 96, 1.0)",
          "line": {
           "width": 1.3
          },
          "opacity": 0.8,
          "size": [
           75
          ],
          "symbol": "circle"
         },
         "mode": "markers",
         "name": "Bihar",
         "textfont": {
          "color": "#4D5663"
         },
         "type": "scatter",
         "uid": "2eabb881-d87a-4374-81a4-952ff05efe73",
         "x": [
          19.381476257639868
         ],
         "y": [
          36.57552511415525
         ]
        },
        {
         "marker": {
          "color": "rgba(128, 0, 128, 1.0)",
          "line": {
           "width": 1.3
          },
          "opacity": 0.8,
          "size": [
           53
          ],
          "symbol": "circle"
         },
         "mode": "markers",
         "name": "Chandigarh",
         "textfont": {
          "color": "#4D5663"
         },
         "type": "scatter",
         "uid": "eb6b1c0f-1eab-4b96-8e29-f38ecfd64a3d",
         "x": [
          2.6769857433808557
         ],
         "y": [
          18.619404165568273
         ]
        },
        {
         "marker": {
          "color": "rgba(219, 64, 82, 1.0)",
          "line": {
           "width": 1.3
          },
          "opacity": 0.8,
          "size": [
           61
          ],
          "symbol": "circle"
         },
         "mode": "markers",
         "name": "Chhattisgarh",
         "textfont": {
          "color": "#4D5663"
         },
         "type": "scatter",
         "uid": "1f118c26-89e4-481e-b225-118bfb74d3b3",
         "x": [
          12.846609360075059
         ],
         "y": [
          24.81596130753847
         ]
        },
        {
         "marker": {
          "color": "rgba(0, 128, 128, 1.0)",
          "line": {
           "width": 1.3
          },
          "opacity": 0.8,
          "size": [
           43
          ],
          "symbol": "circle"
         },
         "mode": "markers",
         "name": "Dadra & Nagar Haveli",
         "textfont": {
          "color": "#4D5663"
         },
         "type": "scatter",
         "uid": "588333df-18f8-4ccb-9fce-7cb9e4a3ff7d",
         "x": [
          8.939586645469006
         ],
         "y": [
          18.293958664546892
         ]
        },
        {
         "marker": {
          "color": "rgba(255, 255, 51, 1.0)",
          "line": {
           "width": 1.3
          },
          "opacity": 0.8,
          "size": [
           35
          ],
          "symbol": "circle"
         },
         "mode": "markers",
         "name": "Daman & Diu",
         "textfont": {
          "color": "#4D5663"
         },
         "type": "scatter",
         "uid": "d0994f16-c274-4cc1-a952-07ab4dcacca9",
         "x": [
          8.192957746478882
         ],
         "y": [
          16.168925831202053
         ]
        },
        {
         "marker": {
          "color": "rgba(128, 128, 0, 1.0)",
          "line": {
           "width": 1.3
          },
          "opacity": 0.8,
          "size": [
           112
          ],
          "symbol": "circle"
         },
         "mode": "markers",
         "name": "Delhi",
         "textfont": {
          "color": "#4D5663"
         },
         "type": "scatter",
         "uid": "75ede930-149c-4870-861b-abcdf4f76581",
         "x": [
          8.737272727272714
         ],
         "y": [
          53.48914699637809
         ]
        },
        {
         "marker": {
          "color": "rgba(251, 128, 114, 1.0)",
          "line": {
           "width": 1.3
          },
          "opacity": 0.8,
          "size": [
           12
          ],
          "symbol": "circle"
         },
         "mode": "markers",
         "name": "Goa",
         "textfont": {
          "color": "#4D5663"
         },
         "type": "scatter",
         "uid": "6cae4039-f19c-4157-9786-decd7af38078",
         "x": [
          6.827912857420736
         ],
         "y": [
          12.506336805555552
         ]
        },
        {
         "marker": {
          "color": "rgba(128, 177, 211, 1.0)",
          "line": {
           "width": 1.3
          },
          "opacity": 0.8,
          "size": [
           49
          ],
          "symbol": "circle"
         },
         "mode": "markers",
         "name": "Gujarat",
         "textfont": {
          "color": "#4D5663"
         },
         "type": "scatter",
         "uid": "3f66f57d-79bb-4fa0-8bdc-d9fbb33a5ded",
         "x": [
          16.65634266251567
         ],
         "y": [
          24.065630827916472
         ]
        },
        {
         "marker": {
          "color": "rgba(128, 177, 211, 0.8999999999999999)",
          "line": {
           "width": 1.3
          },
          "opacity": 0.8,
          "size": [
           72
          ],
          "symbol": "circle"
         },
         "mode": "markers",
         "name": "Haryana",
         "textfont": {
          "color": "#4D5663"
         },
         "type": "scatter",
         "uid": "105b0ca6-4a14-4d71-b311-899fff3fbb6a",
         "x": [
          14.064956992672819
         ],
         "y": [
          23.428310653833364
         ]
        },
        {
         "marker": {
          "color": "rgba(255, 153, 51, 0.8999999999999999)",
          "line": {
           "width": 1.3
          },
          "opacity": 0.8,
          "size": [
           54
          ],
          "symbol": "circle"
         },
         "mode": "markers",
         "name": "Himachal Pradesh",
         "textfont": {
          "color": "#4D5663"
         },
         "type": "scatter",
         "uid": "8e3d396d-4e8b-4c7d-b1c3-87149c440e77",
         "x": [
          2.6670130577152342
         ],
         "y": [
          13.658687590785494
         ]
        },
        {
         "marker": {
          "color": "rgba(55, 128, 191, 0.8999999999999999)",
          "line": {
           "width": 1.3
          },
          "opacity": 0.8,
          "size": [
           50
          ],
          "symbol": "circle"
         },
         "mode": "markers",
         "name": "Jammu & Kashmir",
         "textfont": {
          "color": "#4D5663"
         },
         "type": "scatter",
         "uid": "05bac598-e699-4cc9-9542-12e44df962b4",
         "x": [
          7.180520504731861
         ],
         "y": [
          12.213180741910024
         ]
        },
        {
         "marker": {
          "color": "rgba(50, 171, 96, 0.8999999999999999)",
          "line": {
           "width": 1.3
          },
          "opacity": 0.8,
          "size": [
           75
          ],
          "symbol": "circle"
         },
         "mode": "markers",
         "name": "Jharkhand",
         "textfont": {
          "color": "#4D5663"
         },
         "type": "scatter",
         "uid": "40eb2ad5-8a88-4f63-9521-3f5a3473fc8e",
         "x": [
          23.48579350426838
         ],
         "y": [
          43.36634064552873
         ]
        },
        {
         "marker": {
          "color": "rgba(128, 0, 128, 0.8999999999999999)",
          "line": {
           "width": 1.3
          },
          "opacity": 0.8,
          "size": [
           42
          ],
          "symbol": "circle"
         },
         "mode": "markers",
         "name": "Karnataka",
         "textfont": {
          "color": "#4D5663"
         },
         "type": "scatter",
         "uid": "bb31070a-254b-435d-9e1c-b25f3c0f5001",
         "x": [
          10.223098790655666
         ],
         "y": [
          22.70283650964885
         ]
        },
        {
         "marker": {
          "color": "rgba(219, 64, 82, 0.8999999999999999)",
          "line": {
           "width": 1.3
          },
          "opacity": 0.8,
          "size": [
           17
          ],
          "symbol": "circle"
         },
         "mode": "markers",
         "name": "Kerala",
         "textfont": {
          "color": "#4D5663"
         },
         "type": "scatter",
         "uid": "cda2c30c-1eea-4926-b23d-429799fe477e",
         "x": [
          5.3223500342355585
         ],
         "y": [
          14.42188851141326
         ]
        },
        {
         "marker": {
          "color": "rgba(0, 128, 128, 0.8999999999999999)",
          "line": {
           "width": 1.3
          },
          "opacity": 0.8,
          "size": [
           54
          ],
          "symbol": "circle"
         },
         "mode": "markers",
         "name": "Madhya Pradesh",
         "textfont": {
          "color": "#4D5663"
         },
         "type": "scatter",
         "uid": "2acdcd63-5132-4118-b299-71f18f6248c2",
         "x": [
          11.587409816093217
         ],
         "y": [
          18.639596257917606
         ]
        },
        {
         "marker": {
          "color": "rgba(255, 255, 51, 0.8999999999999999)",
          "line": {
           "width": 1.3
          },
          "opacity": 0.8,
          "size": [
           53
          ],
          "symbol": "circle"
         },
         "mode": "markers",
         "name": "Maharashtra",
         "textfont": {
          "color": "#4D5663"
         },
         "type": "scatter",
         "uid": "8dd15a5b-08c3-4ebb-8004-9b153024bece",
         "x": [
          17.366863004812807
         ],
         "y": [
          32.11537045143486
         ]
        },
        {
         "marker": {
          "color": "rgba(128, 128, 0, 0.8999999999999999)",
          "line": {
           "width": 1.3
          },
          "opacity": 0.8,
          "size": [
           39
          ],
          "symbol": "circle"
         },
         "mode": "markers",
         "name": "Manipur",
         "textfont": {
          "color": "#4D5663"
         },
         "type": "scatter",
         "uid": "54c8c50d-11d1-489f-8565-94bdbe9f86c8",
         "x": [
          3.9000000000000004
         ],
         "y": [
          20.17368421052632
         ]
        },
        {
         "marker": {
          "color": "rgba(251, 128, 114, 0.8999999999999999)",
          "line": {
           "width": 1.3
          },
          "opacity": 0.8,
          "size": [
           15
          ],
          "symbol": "circle"
         },
         "mode": "markers",
         "name": "Meghalaya",
         "textfont": {
          "color": "#4D5663"
         },
         "type": "scatter",
         "uid": "b5ab04c8-5b9c-40db-b218-7cadb475ed5d",
         "x": [
          8.955907867160935
         ],
         "y": [
          10.659706268773927
         ]
        },
        {
         "marker": {
          "color": "rgba(251, 128, 114, 0.7999999999999998)",
          "line": {
           "width": 1.3
          },
          "opacity": 0.8,
          "size": [
           18
          ],
          "symbol": "circle"
         },
         "mode": "markers",
         "name": "Mizoram",
         "textfont": {
          "color": "#4D5663"
         },
         "type": "scatter",
         "uid": "945e93b7-81ed-4d80-8fc9-1c50e15ae3fc",
         "x": [
          2.0850091848447763
         ],
         "y": [
          6.6821709525779776
         ]
        },
        {
         "marker": {
          "color": "rgba(128, 177, 211, 0.7999999999999998)",
          "line": {
           "width": 1.3
          },
          "opacity": 0.8,
          "size": [
           31
          ],
          "symbol": "circle"
         },
         "mode": "markers",
         "name": "Nagaland",
         "textfont": {
          "color": "#4D5663"
         },
         "type": "scatter",
         "uid": "f3369764-256d-4b56-bed0-624402e87e0a",
         "x": [
          2.0597361809045225
         ],
         "y": [
          8.947265357727339
         ]
        },
        {
         "marker": {
          "color": "rgba(255, 153, 51, 0.7999999999999998)",
          "line": {
           "width": 1.3
          },
          "opacity": 0.8,
          "size": [
           42
          ],
          "symbol": "circle"
         },
         "mode": "markers",
         "name": "Odisha",
         "textfont": {
          "color": "#4D5663"
         },
         "type": "scatter",
         "uid": "4c207d1c-76c2-4c57-a872-7c7306279e79",
         "x": [
          5.275873978680558
         ],
         "y": [
          16.899567764501295
         ]
        },
        {
         "marker": {
          "color": "rgba(55, 128, 191, 0.7999999999999998)",
          "line": {
           "width": 1.3
          },
          "opacity": 0.8,
          "size": [
           20
          ],
          "symbol": "circle"
         },
         "mode": "markers",
         "name": "Puducherry",
         "textfont": {
          "color": "#4D5663"
         },
         "type": "scatter",
         "uid": "ffd6ee7b-0401-4acc-8cb4-a62ce98bb3dc",
         "x": [
          11.970638742000576
         ],
         "y": [
          15.279495558652455
         ]
        },
        {
         "marker": {
          "color": "rgba(50, 171, 96, 0.7999999999999998)",
          "line": {
           "width": 1.3
          },
          "opacity": 0.8,
          "size": [
           65
          ],
          "symbol": "circle"
         },
         "mode": "markers",
         "name": "Punjab",
         "textfont": {
          "color": "#4D5663"
         },
         "type": "scatter",
         "uid": "61e32ee9-a079-40c7-8391-2e9b78974bec",
         "x": [
          10.628598138438416
         ],
         "y": [
          28.08584601326902
         ]
        },
        {
         "marker": {
          "color": "rgba(128, 0, 128, 0.7999999999999998)",
          "line": {
           "width": 1.3
          },
          "opacity": 0.8,
          "size": [
           82
          ],
          "symbol": "circle"
         },
         "mode": "markers",
         "name": "Rajasthan",
         "textfont": {
          "color": "#4D5663"
         },
         "type": "scatter",
         "uid": "00b00c7e-1cd2-43fd-a57a-0bbeb4b8d332",
         "x": [
          7.665725055635958
         ],
         "y": [
          30.441008211454605
         ]
        },
        {
         "marker": {
          "color": "rgba(219, 64, 82, 0.7999999999999998)",
          "line": {
           "width": 1.3
          },
          "opacity": 0.8,
          "size": [
           14
          ],
          "symbol": "circle"
         },
         "mode": "markers",
         "name": "Sikkim",
         "textfont": {
          "color": "#4D5663"
         },
         "type": "scatter",
         "uid": "7fbca499-9eab-4051-89ae-5245cbbc18c0",
         "x": [
          19.8
         ],
         "y": [
          26.8
         ]
        },
        {
         "marker": {
          "color": "rgba(0, 128, 128, 0.7999999999999998)",
          "line": {
           "width": 1.3
          },
          "opacity": 0.8,
          "size": [
           29
          ],
          "symbol": "circle"
         },
         "mode": "markers",
         "name": "Tamil Nadu",
         "textfont": {
          "color": "#4D5663"
         },
         "type": "scatter",
         "uid": "8f696597-12c6-481c-85a6-474caf5cfd76",
         "x": [
          11.315134172278633
         ],
         "y": [
          21.601201975202645
         ]
        },
        {
         "marker": {
          "color": "rgba(255, 255, 51, 0.7999999999999998)",
          "line": {
           "width": 1.3
          },
          "opacity": 0.8,
          "size": [
           103
          ],
          "symbol": "circle"
         },
         "mode": "markers",
         "name": "Uttar Pradesh",
         "textfont": {
          "color": "#4D5663"
         },
         "type": "scatter",
         "uid": "67f9ffb6-ed57-41c7-9bde-0343cd8f883b",
         "x": [
          12.52849986762399
         ],
         "y": [
          27.610095261127576
         ]
        },
        {
         "marker": {
          "color": "rgba(128, 128, 0, 0.7999999999999998)",
          "line": {
           "width": 1.3
          },
          "opacity": 0.8,
          "size": [
           84
          ],
          "symbol": "circle"
         },
         "mode": "markers",
         "name": "Uttarakhand",
         "textfont": {
          "color": "#4D5663"
         },
         "type": "scatter",
         "uid": "336040d4-6b44-4379-9a1d-a6acd62eb45e",
         "x": [
          24.372957181088314
         ],
         "y": [
          26.93809002975893
         ]
        },
        {
         "marker": {
          "color": "rgba(128, 128, 0, 0.7)",
          "line": {
           "width": 1.3
          },
          "opacity": 0.8,
          "size": [
           77
          ],
          "symbol": "circle"
         },
         "mode": "markers",
         "name": "Uttaranchal",
         "textfont": {
          "color": "#4D5663"
         },
         "type": "scatter",
         "uid": "2d692037-9c49-4efa-8172-defd27ae59ca",
         "x": [
          24.69773584905661
         ],
         "y": [
          27.163018867924517
         ]
        },
        {
         "marker": {
          "color": "rgba(251, 128, 114, 0.7)",
          "line": {
           "width": 1.3
          },
          "opacity": 0.8,
          "size": [
           62
          ],
          "symbol": "circle"
         },
         "mode": "markers",
         "name": "West Bengal",
         "textfont": {
          "color": "#4D5663"
         },
         "type": "scatter",
         "uid": "e7d326ac-34a9-4888-8c9a-777f88c69d8e",
         "x": [
          12.608765600075088
         ],
         "y": [
          59.07573144496237
         ]
        }
       ],
       "layout": {
        "legend": {
         "bgcolor": "#F5F6F9",
         "font": {
          "color": "#4D5663"
         }
        },
        "paper_bgcolor": "#F5F6F9",
        "plot_bgcolor": "#F5F6F9",
        "title": {
         "font": {
          "color": "#4D5663"
         },
         "text": "Pollution level For SO2 vs NO2 level with bubble of SPM size"
        },
        "xaxis": {
         "gridcolor": "#E1E5ED",
         "showgrid": true,
         "tickfont": {
          "color": "#4D5663"
         },
         "title": {
          "font": {
           "color": "#4D5663"
          },
          "text": "So2 value"
         },
         "zerolinecolor": "#E1E5ED"
        },
        "yaxis": {
         "gridcolor": "#E1E5ED",
         "showgrid": true,
         "tickfont": {
          "color": "#4D5663"
         },
         "title": {
          "font": {
           "color": "#4D5663"
          },
          "text": "NO2 Value"
         },
         "zerolinecolor": "#E1E5ED"
        }
       }
      },
      "text/html": [
       "<div>\n",
       "        \n",
       "        \n",
       "            <div id=\"0d20e611-bda7-4c5e-912c-ad0d4d013821\" class=\"plotly-graph-div\" style=\"height:525px; width:100%;\"></div>\n",
       "            <script type=\"text/javascript\">\n",
       "                require([\"plotly\"], function(Plotly) {\n",
       "                    window.PLOTLYENV=window.PLOTLYENV || {};\n",
       "                    window.PLOTLYENV.BASE_URL='https://plot.ly';\n",
       "                    \n",
       "                if (document.getElementById(\"0d20e611-bda7-4c5e-912c-ad0d4d013821\")) {\n",
       "                    Plotly.newPlot(\n",
       "                        '0d20e611-bda7-4c5e-912c-ad0d4d013821',\n",
       "                        [{\"marker\": {\"color\": \"rgba(255, 153, 51, 1.0)\", \"line\": {\"width\": 1.3}, \"opacity\": 0.8, \"size\": [52], \"symbol\": \"circle\"}, \"mode\": \"markers\", \"name\": \"Andhra Pradesh\", \"textfont\": {\"color\": \"#4D5663\"}, \"type\": \"scatter\", \"uid\": \"da321e3a-3032-45b8-a4ef-45c7ff9625c1\", \"x\": [7.28484482691484], \"y\": [21.704450555835237]}, {\"marker\": {\"color\": \"rgba(55, 128, 191, 1.0)\", \"line\": {\"width\": 1.3}, \"opacity\": 0.8, \"size\": [37], \"symbol\": \"circle\"}, \"mode\": \"markers\", \"name\": \"Assam\", \"textfont\": {\"color\": \"#4D5663\"}, \"type\": \"scatter\", \"uid\": \"36090f68-ed30-40d4-8376-d0237932c820\", \"x\": [6.723262949865003], \"y\": [14.793691007156418]}, {\"marker\": {\"color\": \"rgba(50, 171, 96, 1.0)\", \"line\": {\"width\": 1.3}, \"opacity\": 0.8, \"size\": [75], \"symbol\": \"circle\"}, \"mode\": \"markers\", \"name\": \"Bihar\", \"textfont\": {\"color\": \"#4D5663\"}, \"type\": \"scatter\", \"uid\": \"2eabb881-d87a-4374-81a4-952ff05efe73\", \"x\": [19.381476257639868], \"y\": [36.57552511415525]}, {\"marker\": {\"color\": \"rgba(128, 0, 128, 1.0)\", \"line\": {\"width\": 1.3}, \"opacity\": 0.8, \"size\": [53], \"symbol\": \"circle\"}, \"mode\": \"markers\", \"name\": \"Chandigarh\", \"textfont\": {\"color\": \"#4D5663\"}, \"type\": \"scatter\", \"uid\": \"eb6b1c0f-1eab-4b96-8e29-f38ecfd64a3d\", \"x\": [2.6769857433808557], \"y\": [18.619404165568273]}, {\"marker\": {\"color\": \"rgba(219, 64, 82, 1.0)\", \"line\": {\"width\": 1.3}, \"opacity\": 0.8, \"size\": [61], \"symbol\": \"circle\"}, \"mode\": \"markers\", \"name\": \"Chhattisgarh\", \"textfont\": {\"color\": \"#4D5663\"}, \"type\": \"scatter\", \"uid\": \"1f118c26-89e4-481e-b225-118bfb74d3b3\", \"x\": [12.846609360075059], \"y\": [24.81596130753847]}, {\"marker\": {\"color\": \"rgba(0, 128, 128, 1.0)\", \"line\": {\"width\": 1.3}, \"opacity\": 0.8, \"size\": [43], \"symbol\": \"circle\"}, \"mode\": \"markers\", \"name\": \"Dadra & Nagar Haveli\", \"textfont\": {\"color\": \"#4D5663\"}, \"type\": \"scatter\", \"uid\": \"588333df-18f8-4ccb-9fce-7cb9e4a3ff7d\", \"x\": [8.939586645469006], \"y\": [18.293958664546892]}, {\"marker\": {\"color\": \"rgba(255, 255, 51, 1.0)\", \"line\": {\"width\": 1.3}, \"opacity\": 0.8, \"size\": [35], \"symbol\": \"circle\"}, \"mode\": \"markers\", \"name\": \"Daman & Diu\", \"textfont\": {\"color\": \"#4D5663\"}, \"type\": \"scatter\", \"uid\": \"d0994f16-c274-4cc1-a952-07ab4dcacca9\", \"x\": [8.192957746478882], \"y\": [16.168925831202053]}, {\"marker\": {\"color\": \"rgba(128, 128, 0, 1.0)\", \"line\": {\"width\": 1.3}, \"opacity\": 0.8, \"size\": [112], \"symbol\": \"circle\"}, \"mode\": \"markers\", \"name\": \"Delhi\", \"textfont\": {\"color\": \"#4D5663\"}, \"type\": \"scatter\", \"uid\": \"75ede930-149c-4870-861b-abcdf4f76581\", \"x\": [8.737272727272714], \"y\": [53.48914699637809]}, {\"marker\": {\"color\": \"rgba(251, 128, 114, 1.0)\", \"line\": {\"width\": 1.3}, \"opacity\": 0.8, \"size\": [12], \"symbol\": \"circle\"}, \"mode\": \"markers\", \"name\": \"Goa\", \"textfont\": {\"color\": \"#4D5663\"}, \"type\": \"scatter\", \"uid\": \"6cae4039-f19c-4157-9786-decd7af38078\", \"x\": [6.827912857420736], \"y\": [12.506336805555552]}, {\"marker\": {\"color\": \"rgba(128, 177, 211, 1.0)\", \"line\": {\"width\": 1.3}, \"opacity\": 0.8, \"size\": [49], \"symbol\": \"circle\"}, \"mode\": \"markers\", \"name\": \"Gujarat\", \"textfont\": {\"color\": \"#4D5663\"}, \"type\": \"scatter\", \"uid\": \"3f66f57d-79bb-4fa0-8bdc-d9fbb33a5ded\", \"x\": [16.65634266251567], \"y\": [24.065630827916472]}, {\"marker\": {\"color\": \"rgba(128, 177, 211, 0.8999999999999999)\", \"line\": {\"width\": 1.3}, \"opacity\": 0.8, \"size\": [72], \"symbol\": \"circle\"}, \"mode\": \"markers\", \"name\": \"Haryana\", \"textfont\": {\"color\": \"#4D5663\"}, \"type\": \"scatter\", \"uid\": \"105b0ca6-4a14-4d71-b311-899fff3fbb6a\", \"x\": [14.064956992672819], \"y\": [23.428310653833364]}, {\"marker\": {\"color\": \"rgba(255, 153, 51, 0.8999999999999999)\", \"line\": {\"width\": 1.3}, \"opacity\": 0.8, \"size\": [54], \"symbol\": \"circle\"}, \"mode\": \"markers\", \"name\": \"Himachal Pradesh\", \"textfont\": {\"color\": \"#4D5663\"}, \"type\": \"scatter\", \"uid\": \"8e3d396d-4e8b-4c7d-b1c3-87149c440e77\", \"x\": [2.6670130577152342], \"y\": [13.658687590785494]}, {\"marker\": {\"color\": \"rgba(55, 128, 191, 0.8999999999999999)\", \"line\": {\"width\": 1.3}, \"opacity\": 0.8, \"size\": [50], \"symbol\": \"circle\"}, \"mode\": \"markers\", \"name\": \"Jammu & Kashmir\", \"textfont\": {\"color\": \"#4D5663\"}, \"type\": \"scatter\", \"uid\": \"05bac598-e699-4cc9-9542-12e44df962b4\", \"x\": [7.180520504731861], \"y\": [12.213180741910024]}, {\"marker\": {\"color\": \"rgba(50, 171, 96, 0.8999999999999999)\", \"line\": {\"width\": 1.3}, \"opacity\": 0.8, \"size\": [75], \"symbol\": \"circle\"}, \"mode\": \"markers\", \"name\": \"Jharkhand\", \"textfont\": {\"color\": \"#4D5663\"}, \"type\": \"scatter\", \"uid\": \"40eb2ad5-8a88-4f63-9521-3f5a3473fc8e\", \"x\": [23.48579350426838], \"y\": [43.36634064552873]}, {\"marker\": {\"color\": \"rgba(128, 0, 128, 0.8999999999999999)\", \"line\": {\"width\": 1.3}, \"opacity\": 0.8, \"size\": [42], \"symbol\": \"circle\"}, \"mode\": \"markers\", \"name\": \"Karnataka\", \"textfont\": {\"color\": \"#4D5663\"}, \"type\": \"scatter\", \"uid\": \"bb31070a-254b-435d-9e1c-b25f3c0f5001\", \"x\": [10.223098790655666], \"y\": [22.70283650964885]}, {\"marker\": {\"color\": \"rgba(219, 64, 82, 0.8999999999999999)\", \"line\": {\"width\": 1.3}, \"opacity\": 0.8, \"size\": [17], \"symbol\": \"circle\"}, \"mode\": \"markers\", \"name\": \"Kerala\", \"textfont\": {\"color\": \"#4D5663\"}, \"type\": \"scatter\", \"uid\": \"cda2c30c-1eea-4926-b23d-429799fe477e\", \"x\": [5.3223500342355585], \"y\": [14.42188851141326]}, {\"marker\": {\"color\": \"rgba(0, 128, 128, 0.8999999999999999)\", \"line\": {\"width\": 1.3}, \"opacity\": 0.8, \"size\": [54], \"symbol\": \"circle\"}, \"mode\": \"markers\", \"name\": \"Madhya Pradesh\", \"textfont\": {\"color\": \"#4D5663\"}, \"type\": \"scatter\", \"uid\": \"2acdcd63-5132-4118-b299-71f18f6248c2\", \"x\": [11.587409816093217], \"y\": [18.639596257917606]}, {\"marker\": {\"color\": \"rgba(255, 255, 51, 0.8999999999999999)\", \"line\": {\"width\": 1.3}, \"opacity\": 0.8, \"size\": [53], \"symbol\": \"circle\"}, \"mode\": \"markers\", \"name\": \"Maharashtra\", \"textfont\": {\"color\": \"#4D5663\"}, \"type\": \"scatter\", \"uid\": \"8dd15a5b-08c3-4ebb-8004-9b153024bece\", \"x\": [17.366863004812807], \"y\": [32.11537045143486]}, {\"marker\": {\"color\": \"rgba(128, 128, 0, 0.8999999999999999)\", \"line\": {\"width\": 1.3}, \"opacity\": 0.8, \"size\": [39], \"symbol\": \"circle\"}, \"mode\": \"markers\", \"name\": \"Manipur\", \"textfont\": {\"color\": \"#4D5663\"}, \"type\": \"scatter\", \"uid\": \"54c8c50d-11d1-489f-8565-94bdbe9f86c8\", \"x\": [3.9000000000000004], \"y\": [20.17368421052632]}, {\"marker\": {\"color\": \"rgba(251, 128, 114, 0.8999999999999999)\", \"line\": {\"width\": 1.3}, \"opacity\": 0.8, \"size\": [15], \"symbol\": \"circle\"}, \"mode\": \"markers\", \"name\": \"Meghalaya\", \"textfont\": {\"color\": \"#4D5663\"}, \"type\": \"scatter\", \"uid\": \"b5ab04c8-5b9c-40db-b218-7cadb475ed5d\", \"x\": [8.955907867160935], \"y\": [10.659706268773927]}, {\"marker\": {\"color\": \"rgba(251, 128, 114, 0.7999999999999998)\", \"line\": {\"width\": 1.3}, \"opacity\": 0.8, \"size\": [18], \"symbol\": \"circle\"}, \"mode\": \"markers\", \"name\": \"Mizoram\", \"textfont\": {\"color\": \"#4D5663\"}, \"type\": \"scatter\", \"uid\": \"945e93b7-81ed-4d80-8fc9-1c50e15ae3fc\", \"x\": [2.0850091848447763], \"y\": [6.6821709525779776]}, {\"marker\": {\"color\": \"rgba(128, 177, 211, 0.7999999999999998)\", \"line\": {\"width\": 1.3}, \"opacity\": 0.8, \"size\": [31], \"symbol\": \"circle\"}, \"mode\": \"markers\", \"name\": \"Nagaland\", \"textfont\": {\"color\": \"#4D5663\"}, \"type\": \"scatter\", \"uid\": \"f3369764-256d-4b56-bed0-624402e87e0a\", \"x\": [2.0597361809045225], \"y\": [8.947265357727339]}, {\"marker\": {\"color\": \"rgba(255, 153, 51, 0.7999999999999998)\", \"line\": {\"width\": 1.3}, \"opacity\": 0.8, \"size\": [42], \"symbol\": \"circle\"}, \"mode\": \"markers\", \"name\": \"Odisha\", \"textfont\": {\"color\": \"#4D5663\"}, \"type\": \"scatter\", \"uid\": \"4c207d1c-76c2-4c57-a872-7c7306279e79\", \"x\": [5.275873978680558], \"y\": [16.899567764501295]}, {\"marker\": {\"color\": \"rgba(55, 128, 191, 0.7999999999999998)\", \"line\": {\"width\": 1.3}, \"opacity\": 0.8, \"size\": [20], \"symbol\": \"circle\"}, \"mode\": \"markers\", \"name\": \"Puducherry\", \"textfont\": {\"color\": \"#4D5663\"}, \"type\": \"scatter\", \"uid\": \"ffd6ee7b-0401-4acc-8cb4-a62ce98bb3dc\", \"x\": [11.970638742000576], \"y\": [15.279495558652455]}, {\"marker\": {\"color\": \"rgba(50, 171, 96, 0.7999999999999998)\", \"line\": {\"width\": 1.3}, \"opacity\": 0.8, \"size\": [65], \"symbol\": \"circle\"}, \"mode\": \"markers\", \"name\": \"Punjab\", \"textfont\": {\"color\": \"#4D5663\"}, \"type\": \"scatter\", \"uid\": \"61e32ee9-a079-40c7-8391-2e9b78974bec\", \"x\": [10.628598138438416], \"y\": [28.08584601326902]}, {\"marker\": {\"color\": \"rgba(128, 0, 128, 0.7999999999999998)\", \"line\": {\"width\": 1.3}, \"opacity\": 0.8, \"size\": [82], \"symbol\": \"circle\"}, \"mode\": \"markers\", \"name\": \"Rajasthan\", \"textfont\": {\"color\": \"#4D5663\"}, \"type\": \"scatter\", \"uid\": \"00b00c7e-1cd2-43fd-a57a-0bbeb4b8d332\", \"x\": [7.665725055635958], \"y\": [30.441008211454605]}, {\"marker\": {\"color\": \"rgba(219, 64, 82, 0.7999999999999998)\", \"line\": {\"width\": 1.3}, \"opacity\": 0.8, \"size\": [14], \"symbol\": \"circle\"}, \"mode\": \"markers\", \"name\": \"Sikkim\", \"textfont\": {\"color\": \"#4D5663\"}, \"type\": \"scatter\", \"uid\": \"7fbca499-9eab-4051-89ae-5245cbbc18c0\", \"x\": [19.8], \"y\": [26.8]}, {\"marker\": {\"color\": \"rgba(0, 128, 128, 0.7999999999999998)\", \"line\": {\"width\": 1.3}, \"opacity\": 0.8, \"size\": [29], \"symbol\": \"circle\"}, \"mode\": \"markers\", \"name\": \"Tamil Nadu\", \"textfont\": {\"color\": \"#4D5663\"}, \"type\": \"scatter\", \"uid\": \"8f696597-12c6-481c-85a6-474caf5cfd76\", \"x\": [11.315134172278633], \"y\": [21.601201975202645]}, {\"marker\": {\"color\": \"rgba(255, 255, 51, 0.7999999999999998)\", \"line\": {\"width\": 1.3}, \"opacity\": 0.8, \"size\": [103], \"symbol\": \"circle\"}, \"mode\": \"markers\", \"name\": \"Uttar Pradesh\", \"textfont\": {\"color\": \"#4D5663\"}, \"type\": \"scatter\", \"uid\": \"67f9ffb6-ed57-41c7-9bde-0343cd8f883b\", \"x\": [12.52849986762399], \"y\": [27.610095261127576]}, {\"marker\": {\"color\": \"rgba(128, 128, 0, 0.7999999999999998)\", \"line\": {\"width\": 1.3}, \"opacity\": 0.8, \"size\": [84], \"symbol\": \"circle\"}, \"mode\": \"markers\", \"name\": \"Uttarakhand\", \"textfont\": {\"color\": \"#4D5663\"}, \"type\": \"scatter\", \"uid\": \"336040d4-6b44-4379-9a1d-a6acd62eb45e\", \"x\": [24.372957181088314], \"y\": [26.93809002975893]}, {\"marker\": {\"color\": \"rgba(128, 128, 0, 0.7)\", \"line\": {\"width\": 1.3}, \"opacity\": 0.8, \"size\": [77], \"symbol\": \"circle\"}, \"mode\": \"markers\", \"name\": \"Uttaranchal\", \"textfont\": {\"color\": \"#4D5663\"}, \"type\": \"scatter\", \"uid\": \"2d692037-9c49-4efa-8172-defd27ae59ca\", \"x\": [24.69773584905661], \"y\": [27.163018867924517]}, {\"marker\": {\"color\": \"rgba(251, 128, 114, 0.7)\", \"line\": {\"width\": 1.3}, \"opacity\": 0.8, \"size\": [62], \"symbol\": \"circle\"}, \"mode\": \"markers\", \"name\": \"West Bengal\", \"textfont\": {\"color\": \"#4D5663\"}, \"type\": \"scatter\", \"uid\": \"e7d326ac-34a9-4888-8c9a-777f88c69d8e\", \"x\": [12.608765600075088], \"y\": [59.07573144496237]}],\n",
       "                        {\"legend\": {\"bgcolor\": \"#F5F6F9\", \"font\": {\"color\": \"#4D5663\"}}, \"paper_bgcolor\": \"#F5F6F9\", \"plot_bgcolor\": \"#F5F6F9\", \"title\": {\"font\": {\"color\": \"#4D5663\"}, \"text\": \"Pollution level For SO2 vs NO2 level with bubble of SPM size\"}, \"xaxis\": {\"gridcolor\": \"#E1E5ED\", \"showgrid\": true, \"tickfont\": {\"color\": \"#4D5663\"}, \"title\": {\"font\": {\"color\": \"#4D5663\"}, \"text\": \"So2 value\"}, \"zerolinecolor\": \"#E1E5ED\"}, \"yaxis\": {\"gridcolor\": \"#E1E5ED\", \"showgrid\": true, \"tickfont\": {\"color\": \"#4D5663\"}, \"title\": {\"font\": {\"color\": \"#4D5663\"}, \"text\": \"NO2 Value\"}, \"zerolinecolor\": \"#E1E5ED\"}},\n",
       "                        {\"showLink\": true, \"linkText\": \"Export to plot.ly\", \"plotlyServerURL\": \"https://plot.ly\", \"responsive\": true}\n",
       "                    ).then(function(){\n",
       "                            \n",
       "var gd = document.getElementById('0d20e611-bda7-4c5e-912c-ad0d4d013821');\n",
       "var x = new MutationObserver(function (mutations, observer) {{\n",
       "        var display = window.getComputedStyle(gd).display;\n",
       "        if (!display || display === 'none') {{\n",
       "            console.log([gd, 'removed!']);\n",
       "            Plotly.purge(gd);\n",
       "            observer.disconnect();\n",
       "        }}\n",
       "}});\n",
       "\n",
       "// Listen for the removal of the full notebook cells\n",
       "var notebookContainer = gd.closest('#notebook-container');\n",
       "if (notebookContainer) {{\n",
       "    x.observe(notebookContainer, {childList: true});\n",
       "}}\n",
       "\n",
       "// Listen for the clearing of the current output cell\n",
       "var outputEl = gd.closest('.output');\n",
       "if (outputEl) {{\n",
       "    x.observe(outputEl, {childList: true});\n",
       "}}\n",
       "\n",
       "                        })\n",
       "                };\n",
       "                });\n",
       "            </script>\n",
       "        </div>"
      ]
     },
     "metadata": {},
     "output_type": "display_data"
    }
   ],
   "source": [
    "data_frame.iplot(kind='bubble', x='so2', y='no2', size='spm',\n",
    "             xTitle='So2 value', yTitle='NO2 Value', categories='state',\n",
    "             filename='cufflinks/simple-bubble-chart', title='Pollution level For SO2 vs NO2 level with bubble of SPM size')"
   ]
  },
  {
   "cell_type": "code",
   "execution_count": 33,
   "metadata": {},
   "outputs": [],
   "source": [
    "fig.update_traces(textposition='top center')"
   ]
  },
  {
   "cell_type": "code",
   "execution_count": 26,
   "metadata": {},
   "outputs": [],
   "source": [
    "data_frame_city = air_pollution_data.groupby('location').mean().drop('pm2_5', axis=1).dropna()"
   ]
  },
  {
   "cell_type": "code",
   "execution_count": 27,
   "metadata": {},
   "outputs": [
    {
     "data": {
      "text/plain": [
       "(183, 4)"
      ]
     },
     "execution_count": 27,
     "metadata": {},
     "output_type": "execute_result"
    }
   ],
   "source": [
    "data_frame_city.shape"
   ]
  },
  {
   "cell_type": "code",
   "execution_count": 29,
   "metadata": {},
   "outputs": [],
   "source": [
    "data_frame_city = data_frame_city.reset_index()"
   ]
  },
  {
   "cell_type": "code",
   "execution_count": 62,
   "metadata": {},
   "outputs": [
    {
     "ename": "KeyError",
     "evalue": "'state'",
     "output_type": "error",
     "traceback": [
      "\u001b[0;31m---------------------------------------------------------------------------\u001b[0m",
      "\u001b[0;31mKeyError\u001b[0m                                  Traceback (most recent call last)",
      "\u001b[0;32m~/.conda/envs/air_pollution_analysis/lib/python3.7/site-packages/pandas/core/indexes/base.py\u001b[0m in \u001b[0;36mget_loc\u001b[0;34m(self, key, method, tolerance)\u001b[0m\n\u001b[1;32m   2896\u001b[0m             \u001b[0;32mtry\u001b[0m\u001b[0;34m:\u001b[0m\u001b[0;34m\u001b[0m\u001b[0;34m\u001b[0m\u001b[0m\n\u001b[0;32m-> 2897\u001b[0;31m                 \u001b[0;32mreturn\u001b[0m \u001b[0mself\u001b[0m\u001b[0;34m.\u001b[0m\u001b[0m_engine\u001b[0m\u001b[0;34m.\u001b[0m\u001b[0mget_loc\u001b[0m\u001b[0;34m(\u001b[0m\u001b[0mkey\u001b[0m\u001b[0;34m)\u001b[0m\u001b[0;34m\u001b[0m\u001b[0;34m\u001b[0m\u001b[0m\n\u001b[0m\u001b[1;32m   2898\u001b[0m             \u001b[0;32mexcept\u001b[0m \u001b[0mKeyError\u001b[0m\u001b[0;34m:\u001b[0m\u001b[0;34m\u001b[0m\u001b[0;34m\u001b[0m\u001b[0m\n",
      "\u001b[0;32mpandas/_libs/index.pyx\u001b[0m in \u001b[0;36mpandas._libs.index.IndexEngine.get_loc\u001b[0;34m()\u001b[0m\n",
      "\u001b[0;32mpandas/_libs/index.pyx\u001b[0m in \u001b[0;36mpandas._libs.index.IndexEngine.get_loc\u001b[0;34m()\u001b[0m\n",
      "\u001b[0;32mpandas/_libs/hashtable_class_helper.pxi\u001b[0m in \u001b[0;36mpandas._libs.hashtable.PyObjectHashTable.get_item\u001b[0;34m()\u001b[0m\n",
      "\u001b[0;32mpandas/_libs/hashtable_class_helper.pxi\u001b[0m in \u001b[0;36mpandas._libs.hashtable.PyObjectHashTable.get_item\u001b[0;34m()\u001b[0m\n",
      "\u001b[0;31mKeyError\u001b[0m: 'state'",
      "\nDuring handling of the above exception, another exception occurred:\n",
      "\u001b[0;31mKeyError\u001b[0m                                  Traceback (most recent call last)",
      "\u001b[0;32m<ipython-input-62-d555f976ff0e>\u001b[0m in \u001b[0;36m<module>\u001b[0;34m\u001b[0m\n\u001b[1;32m      1\u001b[0m data_frame_city.iplot(kind='bubble', x='so2', y='no2', size='spm', text='location',\n\u001b[1;32m      2\u001b[0m              \u001b[0mxTitle\u001b[0m\u001b[0;34m=\u001b[0m\u001b[0;34m'So2 value'\u001b[0m\u001b[0;34m,\u001b[0m \u001b[0myTitle\u001b[0m\u001b[0;34m=\u001b[0m\u001b[0;34m'NO2 Value'\u001b[0m\u001b[0;34m,\u001b[0m\u001b[0;34m\u001b[0m\u001b[0;34m\u001b[0m\u001b[0m\n\u001b[0;32m----> 3\u001b[0;31m              filename='cufflinks/simple-bubble-chart', categories='state')\n\u001b[0m",
      "\u001b[0;32m~/.conda/envs/air_pollution_analysis/lib/python3.7/site-packages/cufflinks/plotlytools.py\u001b[0m in \u001b[0;36m_iplot\u001b[0;34m(self, kind, data, layout, filename, sharing, title, xTitle, yTitle, zTitle, theme, colors, colorscale, fill, width, dash, mode, interpolation, symbol, size, barmode, sortbars, bargap, bargroupgap, bins, histnorm, histfunc, orientation, boxpoints, annotations, keys, bestfit, bestfit_colors, mean, mean_colors, categories, x, y, z, text, gridcolor, zerolinecolor, margin, labels, values, secondary_y, secondary_y_title, subplots, shape, error_x, error_y, error_type, locations, lon, lat, asFrame, asDates, asFigure, asImage, dimensions, asPlot, asUrl, online, **kwargs)\u001b[0m\n\u001b[1;32m    771\u001b[0m                                 \u001b[0mdata\u001b[0m\u001b[0;34m=\u001b[0m\u001b[0mfig\u001b[0m\u001b[0;34m[\u001b[0m\u001b[0;34m'data'\u001b[0m\u001b[0;34m]\u001b[0m\u001b[0;34m\u001b[0m\u001b[0;34m\u001b[0m\u001b[0m\n\u001b[1;32m    772\u001b[0m                         \u001b[0;32melse\u001b[0m\u001b[0;34m:\u001b[0m\u001b[0;34m\u001b[0m\u001b[0;34m\u001b[0m\u001b[0m\n\u001b[0;32m--> 773\u001b[0;31m                                 \u001b[0m_keys\u001b[0m\u001b[0;34m=\u001b[0m\u001b[0mpd\u001b[0m\u001b[0;34m.\u001b[0m\u001b[0munique\u001b[0m\u001b[0;34m(\u001b[0m\u001b[0mself\u001b[0m\u001b[0;34m[\u001b[0m\u001b[0mcategories\u001b[0m\u001b[0;34m]\u001b[0m\u001b[0;34m)\u001b[0m\u001b[0;34m\u001b[0m\u001b[0;34m\u001b[0m\u001b[0m\n\u001b[0m\u001b[1;32m    774\u001b[0m                                 \u001b[0mcolors\u001b[0m\u001b[0;34m=\u001b[0m\u001b[0mget_colors\u001b[0m\u001b[0;34m(\u001b[0m\u001b[0mcolors\u001b[0m\u001b[0;34m,\u001b[0m\u001b[0mcolorscale\u001b[0m\u001b[0;34m,\u001b[0m\u001b[0m_keys\u001b[0m\u001b[0;34m)\u001b[0m\u001b[0;34m\u001b[0m\u001b[0;34m\u001b[0m\u001b[0m\n\u001b[1;32m    775\u001b[0m                                 \u001b[0mmode\u001b[0m\u001b[0;34m=\u001b[0m\u001b[0;34m'markers'\u001b[0m \u001b[0;32mif\u001b[0m \u001b[0;32mnot\u001b[0m \u001b[0mmode\u001b[0m \u001b[0;32melse\u001b[0m \u001b[0mmode\u001b[0m\u001b[0;34m\u001b[0m\u001b[0;34m\u001b[0m\u001b[0m\n",
      "\u001b[0;32m~/.conda/envs/air_pollution_analysis/lib/python3.7/site-packages/pandas/core/frame.py\u001b[0m in \u001b[0;36m__getitem__\u001b[0;34m(self, key)\u001b[0m\n\u001b[1;32m   2978\u001b[0m             \u001b[0;32mif\u001b[0m \u001b[0mself\u001b[0m\u001b[0;34m.\u001b[0m\u001b[0mcolumns\u001b[0m\u001b[0;34m.\u001b[0m\u001b[0mnlevels\u001b[0m \u001b[0;34m>\u001b[0m \u001b[0;36m1\u001b[0m\u001b[0;34m:\u001b[0m\u001b[0;34m\u001b[0m\u001b[0;34m\u001b[0m\u001b[0m\n\u001b[1;32m   2979\u001b[0m                 \u001b[0;32mreturn\u001b[0m \u001b[0mself\u001b[0m\u001b[0;34m.\u001b[0m\u001b[0m_getitem_multilevel\u001b[0m\u001b[0;34m(\u001b[0m\u001b[0mkey\u001b[0m\u001b[0;34m)\u001b[0m\u001b[0;34m\u001b[0m\u001b[0;34m\u001b[0m\u001b[0m\n\u001b[0;32m-> 2980\u001b[0;31m             \u001b[0mindexer\u001b[0m \u001b[0;34m=\u001b[0m \u001b[0mself\u001b[0m\u001b[0;34m.\u001b[0m\u001b[0mcolumns\u001b[0m\u001b[0;34m.\u001b[0m\u001b[0mget_loc\u001b[0m\u001b[0;34m(\u001b[0m\u001b[0mkey\u001b[0m\u001b[0;34m)\u001b[0m\u001b[0;34m\u001b[0m\u001b[0;34m\u001b[0m\u001b[0m\n\u001b[0m\u001b[1;32m   2981\u001b[0m             \u001b[0;32mif\u001b[0m \u001b[0mis_integer\u001b[0m\u001b[0;34m(\u001b[0m\u001b[0mindexer\u001b[0m\u001b[0;34m)\u001b[0m\u001b[0;34m:\u001b[0m\u001b[0;34m\u001b[0m\u001b[0;34m\u001b[0m\u001b[0m\n\u001b[1;32m   2982\u001b[0m                 \u001b[0mindexer\u001b[0m \u001b[0;34m=\u001b[0m \u001b[0;34m[\u001b[0m\u001b[0mindexer\u001b[0m\u001b[0;34m]\u001b[0m\u001b[0;34m\u001b[0m\u001b[0;34m\u001b[0m\u001b[0m\n",
      "\u001b[0;32m~/.conda/envs/air_pollution_analysis/lib/python3.7/site-packages/pandas/core/indexes/base.py\u001b[0m in \u001b[0;36mget_loc\u001b[0;34m(self, key, method, tolerance)\u001b[0m\n\u001b[1;32m   2897\u001b[0m                 \u001b[0;32mreturn\u001b[0m \u001b[0mself\u001b[0m\u001b[0;34m.\u001b[0m\u001b[0m_engine\u001b[0m\u001b[0;34m.\u001b[0m\u001b[0mget_loc\u001b[0m\u001b[0;34m(\u001b[0m\u001b[0mkey\u001b[0m\u001b[0;34m)\u001b[0m\u001b[0;34m\u001b[0m\u001b[0;34m\u001b[0m\u001b[0m\n\u001b[1;32m   2898\u001b[0m             \u001b[0;32mexcept\u001b[0m \u001b[0mKeyError\u001b[0m\u001b[0;34m:\u001b[0m\u001b[0;34m\u001b[0m\u001b[0;34m\u001b[0m\u001b[0m\n\u001b[0;32m-> 2899\u001b[0;31m                 \u001b[0;32mreturn\u001b[0m \u001b[0mself\u001b[0m\u001b[0;34m.\u001b[0m\u001b[0m_engine\u001b[0m\u001b[0;34m.\u001b[0m\u001b[0mget_loc\u001b[0m\u001b[0;34m(\u001b[0m\u001b[0mself\u001b[0m\u001b[0;34m.\u001b[0m\u001b[0m_maybe_cast_indexer\u001b[0m\u001b[0;34m(\u001b[0m\u001b[0mkey\u001b[0m\u001b[0;34m)\u001b[0m\u001b[0;34m)\u001b[0m\u001b[0;34m\u001b[0m\u001b[0;34m\u001b[0m\u001b[0m\n\u001b[0m\u001b[1;32m   2900\u001b[0m         \u001b[0mindexer\u001b[0m \u001b[0;34m=\u001b[0m \u001b[0mself\u001b[0m\u001b[0;34m.\u001b[0m\u001b[0mget_indexer\u001b[0m\u001b[0;34m(\u001b[0m\u001b[0;34m[\u001b[0m\u001b[0mkey\u001b[0m\u001b[0;34m]\u001b[0m\u001b[0;34m,\u001b[0m \u001b[0mmethod\u001b[0m\u001b[0;34m=\u001b[0m\u001b[0mmethod\u001b[0m\u001b[0;34m,\u001b[0m \u001b[0mtolerance\u001b[0m\u001b[0;34m=\u001b[0m\u001b[0mtolerance\u001b[0m\u001b[0;34m)\u001b[0m\u001b[0;34m\u001b[0m\u001b[0;34m\u001b[0m\u001b[0m\n\u001b[1;32m   2901\u001b[0m         \u001b[0;32mif\u001b[0m \u001b[0mindexer\u001b[0m\u001b[0;34m.\u001b[0m\u001b[0mndim\u001b[0m \u001b[0;34m>\u001b[0m \u001b[0;36m1\u001b[0m \u001b[0;32mor\u001b[0m \u001b[0mindexer\u001b[0m\u001b[0;34m.\u001b[0m\u001b[0msize\u001b[0m \u001b[0;34m>\u001b[0m \u001b[0;36m1\u001b[0m\u001b[0;34m:\u001b[0m\u001b[0;34m\u001b[0m\u001b[0;34m\u001b[0m\u001b[0m\n",
      "\u001b[0;32mpandas/_libs/index.pyx\u001b[0m in \u001b[0;36mpandas._libs.index.IndexEngine.get_loc\u001b[0;34m()\u001b[0m\n",
      "\u001b[0;32mpandas/_libs/index.pyx\u001b[0m in \u001b[0;36mpandas._libs.index.IndexEngine.get_loc\u001b[0;34m()\u001b[0m\n",
      "\u001b[0;32mpandas/_libs/hashtable_class_helper.pxi\u001b[0m in \u001b[0;36mpandas._libs.hashtable.PyObjectHashTable.get_item\u001b[0;34m()\u001b[0m\n",
      "\u001b[0;32mpandas/_libs/hashtable_class_helper.pxi\u001b[0m in \u001b[0;36mpandas._libs.hashtable.PyObjectHashTable.get_item\u001b[0;34m()\u001b[0m\n",
      "\u001b[0;31mKeyError\u001b[0m: 'state'"
     ]
    }
   ],
   "source": [
    "data_frame_city.iplot(kind='bubble', x='so2', y='no2', size='spm', text='location',\n",
    "             xTitle='So2 value', yTitle='NO2 Value',\n",
    "             filename='cufflinks/simple-bubble-chart', categories='state')"
   ]
  },
  {
   "cell_type": "code",
   "execution_count": 61,
   "metadata": {},
   "outputs": [
    {
     "name": "stdout",
     "output_type": "stream",
     "text": [
      "BUBBLE\n",
      "Bubble Chart\n",
      "2D bubble chart (x,y,size)\n",
      "\n",
      "\n",
      "Parameters:\n",
      "===========\n",
      "    abs_size : bool\n",
      "        If True then the size of the bubbles are\n",
      "        interpreted as absolute pixel values.\n",
      "        If False, all values are normalized.\n",
      "        Default: False\n",
      "    categories : string\n",
      "        Name of the column that contains the categories\n",
      "    size : int, string\n",
      "        Column that contains the size of the bubbles\n",
      "        By default the size is normalized across all values.\n",
      "        For absolute size use 'abs_size=True'\n",
      "    x : string\n",
      "        Name of the column that contains the x axis value\n",
      "    y : string\n",
      "        Name of the column that contains the y axis value\n",
      "\n",
      "\n",
      "    colors : dict, list or string\n",
      "        Trace color\n",
      "        \tstring : applies to all traces\n",
      "        \tlist : applies to each trace in the order specified\n",
      "        \tdict : {column:value} for each column in the dataframe\n",
      "        values\n",
      "        \tcolorname : see cufflinks.colors.cnames\n",
      "        \thex : '#ffffff'\n",
      "        \trgb : 'rgb(23,50,23)'\n",
      "        \trgba : 'rgba(23,50,23,.5)\n",
      "    colorscale : string\n",
      "        Color scale name\n",
      "        If the color is preceded by a minus (-)\n",
      "        then the scale is inversed.\n",
      "        Only valid if 'colors' is null.\n",
      "        see cufflinks.colors.scales() for all available scales\n",
      "    data : figure\n",
      "        Plotly Figure\n",
      "    rangeslider : bool or dict\n",
      "        Defines if a range slider is displayed.\n",
      "        If True : displays a range slider\n",
      "        If dict : defines a range slider object\n",
      "        Example:\n",
      "        \t{'bgcolor':('blue',.3),'autorange':True}\n",
      "    text : string\n",
      "        Name of the column that contains the text values\n",
      "    width : int, list or dict\n",
      "        Line width\n",
      "        \tint : applies to all traces\n",
      "        \tlist : applies to each trace in the order specified\n",
      "        \tdict : {column:value} for each column in the dataframe\n",
      "\n",
      "    LAYOUT\n",
      "        layout : Plotly Layout\n",
      "            If defined, this Layout is explicitly used for the Figure generation\n",
      "        dimensions : tuple \n",
      "            Dimensions for image/chart\n",
      "            \t(width,height)\n",
      "        fontfamily : string\n",
      "            HTML Font typeface that will be applied\n",
      "            It needs to exist on the system on which it operates.\n",
      "            Examples:\n",
      "            \t'Times New Roman'\n",
      "            \t'Open Sans'\n",
      "            \t'Monospace'\n",
      "        gridcolor : string\n",
      "            Sets the grid color\n",
      "            \tcolorname : see cufflinks.colors.cnames\n",
      "            \thex : '#ffffff'\n",
      "            \trgb : 'rgb(23,50,23)'\n",
      "            \trgba : 'rgba(23,50,23,.5)\n",
      "        legend : string\n",
      "            Defines where the legend should appear\n",
      "            Values:\n",
      "            \tbottom\n",
      "            \ttop\n",
      "        margin : dict or tuple\n",
      "            Sets the margin dimensions\n",
      "            \t{'l':left,'r':right,'b':bottom,'t':top}\n",
      "            \t(left,right,bottom,top)\n",
      "        secondary_y : string\n",
      "            Name of the column(s) to be charted on\n",
      "            the secondary axis\n",
      "        secondary_y_title : string\n",
      "            Sets the title of the secondary axis\n",
      "        showlegend : bool\n",
      "            Defines if the legend should appear\n",
      "        theme : string\n",
      "            Layout theme\n",
      "            \tsolar\n",
      "            \tpearl\n",
      "            \twhite\n",
      "            see cufflinks.getThemes() for all available themes\n",
      "        title : string\n",
      "            Chart title\n",
      "        xTitle : string\n",
      "            X Axis Title\n",
      "        yTitle : string\n",
      "            Y Axis Title\n",
      "        zerolinecolor : string\n",
      "            Sets the zero line color\n",
      "            \tcolorname : see cufflinks.colors.cnames\n",
      "            \thex : '#ffffff'\n",
      "            \trgb : 'rgb(23,50,23)'\n",
      "            \trgba : 'rgba(23,50,23,.5)\n",
      "        layout_update : dict\n",
      "            The Layout will be explicitly modified\n",
      "            with the values stated in the dictionary.\n",
      "            Not valid when Layout is passed as a parameter\n",
      "\n",
      "    ANNOTATIONS\n",
      "        annotations : dict\n",
      "            Dictionary of annotations\n",
      "            \t{x_point : text}\n",
      "        fontcolor : string\n",
      "            Text color\n",
      "        fontsize : int\n",
      "            Text size\n",
      "        textangle : int\n",
      "            Text angle\n",
      "\n",
      "    EXPORTS\n",
      "        asFigure : bool\n",
      "            If True then it returns a Plotly Figure\n",
      "        asImage : bool\n",
      "            If True then it returns an image (PNG)\n",
      "            While in ONLINE mode:\n",
      "            Image file is saved in the working directory\n",
      "            \tAccepts:\n",
      "            \t\tfilename\n",
      "            \t\tdimensions\n",
      "            \t\tscale\n",
      "            \t\tdisplay_image\n",
      "            While in OFFLINE mode:\n",
      "            Image file is downloaded (downloads folder) and a \n",
      "            regular plotly chart is displayed in Jupyter\n",
      "            \tAccepts:\n",
      "            \t\tfilename\n",
      "            \t\tdimensions\n",
      "        asPlot : bool\n",
      "            If True then the chart opens in a browser\n",
      "        asURL : bool\n",
      "            If True the chart url/path is returned.\n",
      "            No chart is displayed. \n",
      "            \tIf ONLINE : The URL is returned\n",
      "            \tIf OFFLINE : the local path is returned\n",
      "        display_image : bool\n",
      "            If True, then the image is displayed\n",
      "            after being saved.\n",
      "            Only valid if 'asImage=True'\n",
      "        filename : string\n",
      "            Filename to be saved as\n",
      "        online : bool\n",
      "            If True then the chart/image is rendered on the server\n",
      "            even when running in Offline mode\n",
      "        scale : int\n",
      "            Increase the resolution of the image by `scale` amount\n",
      "            Only valid if 'asImage=True'\n",
      "        sharing : string\n",
      "            Sets the sharing level permission\n",
      "            \tpublic - anyone can see the chart\n",
      "            \tprivate - only you can see this chart\n",
      "            \tsecret - only people with the link can see the chart\n",
      "\n",
      "    SHAPES\n",
      "        hline : float, list or dict\n",
      "            Draws a horizontal line at the indicated 'y'\n",
      "            position(s).\n",
      "            Extra parameters can be passed in the form of a\n",
      "            dictionary (see 'shapes')\n",
      "            \thline=4\n",
      "            \thline=[2,10]\n",
      "            \thline=[{'y':2,'color':'blue'},{'y':3,'color':'red'}]\n",
      "        hspan : tuple, list or dict\n",
      "            Draws a horizontal rectangle at the indicated\n",
      "            (y0,y1) positions.\n",
      "            Extra parameters can be passed in the form of a\n",
      "            dictionary (see 'shapes')\n",
      "            \thspan=(1,5)\n",
      "            \thspan=[(1,4),(6,10)]\n",
      "            \thspan=[{'y0':2,'y1':5,'color':'blue','fill':True,'opacity':.4}]\n",
      "        vline : float, list or dict\n",
      "            Draws a vertical line at the indicated 'x'\n",
      "            position(s).\n",
      "            Extra parameters can be passed in the form of a\n",
      "            dictionary (see 'shapes')\n",
      "            \tvline=4\n",
      "            \tvline=[2,10]\n",
      "            \tvline=[{'x':'2015-02-08','color':'blue'},{'x':'2015-03-08','color':'red'}]\n",
      "        vspan : tuple, list or dict\n",
      "            Draws a vertical rectangle at the indicated\n",
      "            (x0,x1) positions.\n",
      "            Extra parameters can be passed in the form of a\n",
      "            dictionary (see 'shapes')\n",
      "            \tvspan=('2015-02-08','2015-03-08')\n",
      "            \tvspan=[(1,4),(6,10)]\n",
      "            \tvspan=[{'x0':2,'x1':5,'color':'blue','fill':True,'opacity':.4}]\n",
      "        shapes : list or dict\n",
      "            List of dictionaries with the specification\n",
      "            of a given shape.\n",
      "            For more information\n",
      "            see help(cufflinks.tools.get_shape)\n",
      "\n",
      "    SUBPLOTS\n",
      "        horizontal_spacing : float [0-1]\n",
      "            Space between subplot columns\n",
      "        shape : (int,int)\n",
      "            Indicates the size of rows and columns.\n",
      "            If ommitted, then the shape is automatically set\n",
      "            * Only valid if subplots=True\n",
      "            \t(rows,columns)\n",
      "        shared_xaxes : bool\n",
      "            If True, subplots in the same grid column have one common\n",
      "            shared x-axis at the bottom of the grid.\n",
      "        shared_yaxes : bool\n",
      "            If True, subplots in the same grid row have one common\n",
      "            shared y-axis at the left of the grid.\n",
      "        subplot_titles : bool\n",
      "            If True, chart titles are displayed\n",
      "            at the top of each subplot.\n",
      "        subplots : bool\n",
      "            If True then each trace is placed in a subplot\n",
      "        vertical_spacing : float [0-1]\n",
      "            Space between subplot rows\n",
      "\n",
      "    AXIS\n",
      "        logx : bool\n",
      "            Sets the x axis to be of logarithmic scale\n",
      "        logy : bool\n",
      "            Sets the y axis to be of logarithmic scale\n",
      "        logz : bool\n",
      "            Sets the z axis to be of logarithmic scale\n",
      "        xrange : tuple\n",
      "            Sets the range for the x axis\n",
      "            \t(lower_bound,upper_bound)\n",
      "        yrange : tuple\n",
      "            Sets the range for the y axis\n",
      "            \t(lower_bound,upper_bound)\n",
      "\n",
      "EXAMPLES\n",
      "    >> cf.datagen.bubble().iplot(kind='bubble',categories='categories',size='size',text='text',x='x',y='y')\n",
      "    >> cf.datagen.bubble(4,5).iplot(kind='bubble',x='x',y='y',size='size',categories='categories',abs_size=True,colorscale='prgn')\n"
     ]
    }
   ],
   "source": [
    "cf.help('bubble')"
   ]
  }
 ],
 "metadata": {
  "kernelspec": {
   "display_name": "Python 3",
   "language": "python",
   "name": "python3"
  },
  "language_info": {
   "codemirror_mode": {
    "name": "ipython",
    "version": 3
   },
   "file_extension": ".py",
   "mimetype": "text/x-python",
   "name": "python",
   "nbconvert_exporter": "python",
   "pygments_lexer": "ipython3",
   "version": "3.7.4"
  }
 },
 "nbformat": 4,
 "nbformat_minor": 2
}
